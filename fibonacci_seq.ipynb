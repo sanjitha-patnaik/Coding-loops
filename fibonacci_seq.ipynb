{
 "cells": [
  {
   "cell_type": "markdown",
   "id": "93b0aa0a",
   "metadata": {},
   "source": [
    "The Fibonacci sequence code"
   ]
  },
  {
   "cell_type": "code",
   "execution_count": 3,
   "id": "6e922eb4",
   "metadata": {},
   "outputs": [],
   "source": [
    "\n",
    "\n",
    "n = int(input(\"Enter the number of terms: \"))\n",
    "\n",
    "#starting two terms of thr fibonacci sequence\n",
    "n1, n2 = 0, 1\n",
    "count = 0\n",
    "\n",
    "\n",
    "if n <= 0:\n",
    "   print(\"Enter a valid positive integer\")\n",
    "\n",
    "elif n == 1:\n",
    " \n",
    "   print(n1)\n",
    "# To get fibonacci sequence\n",
    "else:\n",
    "   print(\"Fibonacci sequence:\")\n",
    "   while count < n:\n",
    "       print(n1)\n",
    "       nth = n1 + n2\n",
    "       \n",
    "       n1 = n2\n",
    "       n2 = nth\n",
    "       count +=1"
   ]
  },
  {
   "cell_type": "code",
   "execution_count": null,
   "id": "5e7e5269",
   "metadata": {},
   "outputs": [],
   "source": []
  }
 ],
 "metadata": {
  "kernelspec": {
   "display_name": "Python 3 (ipykernel)",
   "language": "python",
   "name": "python3"
  },
  "language_info": {
   "codemirror_mode": {
    "name": "ipython",
    "version": 3
   },
   "file_extension": ".py",
   "mimetype": "text/x-python",
   "name": "python",
   "nbconvert_exporter": "python",
   "pygments_lexer": "ipython3",
   "version": "3.9.7"
  }
 },
 "nbformat": 4,
 "nbformat_minor": 5
}
