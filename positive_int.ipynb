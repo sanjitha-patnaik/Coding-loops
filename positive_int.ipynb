{
 "cells": [
  {
   "cell_type": "markdown",
   "id": "08a17401",
   "metadata": {},
   "source": [
    "The positive integers code"
   ]
  },
  {
   "cell_type": "code",
   "execution_count": null,
   "id": "408df602",
   "metadata": {},
   "outputs": [
    {
     "name": "stdout",
     "output_type": "stream",
     "text": [
      "Enter the size of the list:3\n",
      " The elements are:\n",
      " \n",
      "3\n",
      "3  The elements are:\n",
      " \n"
     ]
    }
   ],
   "source": [
    "num=[]\n",
    "n = int(input(\"Enter the size of the list:\"))\n",
    "for i in range(0,n):\n",
    "        print(\" The elements are:\\n \")\n",
    "        term = int(input())\n",
    "        num.append(term)\n",
    "        \n",
    "        for j in num:\n",
    "            if j>=0:\n",
    "                print(j , end = \" \")"
   ]
  },
  {
   "cell_type": "code",
   "execution_count": null,
   "id": "6fadd583",
   "metadata": {},
   "outputs": [],
   "source": []
  }
 ],
 "metadata": {
  "kernelspec": {
   "display_name": "Python 3 (ipykernel)",
   "language": "python",
   "name": "python3"
  },
  "language_info": {
   "codemirror_mode": {
    "name": "ipython",
    "version": 3
   },
   "file_extension": ".py",
   "mimetype": "text/x-python",
   "name": "python",
   "nbconvert_exporter": "python",
   "pygments_lexer": "ipython3",
   "version": "3.9.7"
  }
 },
 "nbformat": 4,
 "nbformat_minor": 5
}
